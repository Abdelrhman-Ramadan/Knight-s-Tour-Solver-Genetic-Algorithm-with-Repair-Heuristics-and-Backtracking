{
 "cells": [
  {
   "cell_type": "code",
   "execution_count": 1,
   "metadata": {},
   "outputs": [],
   "source": [
    "from ANALYSIS_FILE import GA_analysis_per_square\n",
    "import random\n",
    "import time"
   ]
  },
  {
   "cell_type": "markdown",
   "metadata": {},
   "source": [
    "# GA with Heuristic"
   ]
  },
  {
   "cell_type": "code",
   "execution_count": 4,
   "metadata": {},
   "outputs": [
    {
     "name": "stdout",
     "output_type": "stream",
     "text": [
      "The run time was: 224.31919145584106 Sec\n",
      "[(1, 445), (1, 489), (1, 286), (4, 316), (2, 416), (1, 420), (2, 163), (2, 446)]\n",
      "[(3, 237), (1, 116), (8, 167), (6, 197), (3, 191), (3, 89), (5, 174), (2, 163)]\n",
      "[(1, 291), (2, 165), (1, 377), (4, 589), (6, 198), (3, 208), (9, 175), (1, 395)]\n",
      "[(1, 158), (2, 197), (2, 303), (2, 208), (2, 270), (3, 354), (2, 244), (2, 381)]\n",
      "[(4, 341), (1, 260), (6, 235), (1, 404), (1, 221), (3, 224), (8, 181), (2, 241)]\n",
      "[(2, 347), (2, 179), (1, 316), (1, 259), (5, 204), (6, 134), (3, 285), (3, 191)]\n",
      "[(2, 282), (8, 162), (5, 119), (3, 244), (1, 238), (4, 261), (7, 273), (2, 247)]\n",
      "[(1, 420), (1, 366), (1, 276), (1, 343), (1, 282), (2, 431), (3, 197), (1, 783)]\n"
     ]
    }
   ],
   "source": [
    "random.seed(20)\n",
    "N = 8\n",
    "max_generations = 50\n",
    "population_size = 50\n",
    "mutation_rate = 0.005\n",
    "crossover_rate = 0.85\n",
    "start_time = time.time()\n",
    "analysis_list = GA_analysis_per_square(N, max_generations, population_size, mutation_rate, crossover_rate, use_heuristic=True)\n",
    "end_time = time.time()\n",
    "runtime = end_time - start_time\n",
    "print(f'The run time was: {runtime} Sec')\n",
    "for i in range(N):\n",
    "    print(analysis_list[:][i])"
   ]
  },
  {
   "cell_type": "code",
   "execution_count": 25,
   "metadata": {},
   "outputs": [],
   "source": [
    "number_of_tours = 0\n",
    "number_of_evaluation = max_generations * population_size * 5 * (N ** 2)\n",
    "max = [(0,0), 0]\n",
    "min = [(0,0), analysis_list[0][0][1]]\n",
    "for x in analysis_list:\n",
    "    for y in x:\n",
    "        number_of_tours += y[1]\n",
    "        if y[1] > max[1] :\n",
    "            max[0] = (analysis_list.index(x), x.index(y))\n",
    "            max[1] = y[1]\n",
    "        if y[1] < min[1] :\n",
    "            min[0] = (analysis_list.index(x), x.index(y))\n",
    "            min[1] = y[1]\n",
    "    \n",
    "   \n",
    "# print(analysis_list)\n",
    "\n"
   ]
  },
  {
   "cell_type": "code",
   "execution_count": 26,
   "metadata": {},
   "outputs": [
    {
     "name": "stdout",
     "output_type": "stream",
     "text": [
      "The number_of_tours: 17774\n",
      "The number_of_evaluation: 800000\n",
      "Hit Ratio (tours found/evaluated): 2.22175\n",
      "average # tours found per square: 277\n",
      "The maximum square: (7, 7) , the umber of tours: 783\n",
      "The minimum square: (1, 5) , the umber of tours: 89\n"
     ]
    }
   ],
   "source": [
    "print(f'The number_of_tours: {number_of_tours}')\n",
    "print(f'The number_of_evaluation: {number_of_evaluation}')\n",
    "print(f'Hit Ratio (tours found/evaluated): {(number_of_tours / number_of_evaluation ) * 100}')\n",
    "print(f'average # tours found per square: {number_of_tours // N ** 2}')\n",
    "print(f'The maximum square: {max[0]} , the number of tours: {max[1]}')\n",
    "print(f'The minimum square: {min[0]} , the number of tours: {min[1]}')"
   ]
  },
  {
   "cell_type": "code",
   "execution_count": null,
   "metadata": {},
   "outputs": [],
   "source": [
    "# The output of population 50, max_population 50, mutation = 0.01, crossover = 0.8\n",
    "    # The number_of_tours: 16203\n",
    "    # The number_of_evaluation: 800000\n",
    "    # Hit Ratio (tours found/evaluated): 2.025375\n",
    "\n",
    "# The output of population 50, max_population 50, mutation = 0.005, crossover = 0.85\n",
    "    # The number_of_tours: 17774\n",
    "    # The number_of_evaluation: 800000\n",
    "    # Hit Ratio (tours found/evaluated): 2.22175\n",
    "\n",
    "# The output of population 50, max_population 50, mutation = 0.005, crossover = 0.85\n",
    "    # The number_of_tours: 17774\n",
    "    # The number_of_evaluation: 800000\n",
    "    # Hit Ratio (tours found/evaluated): 2.22175\n",
    "    # average # tours found per square: 277\n",
    "    # The maximum square: (7, 7) , the number of tours: 783\n",
    "    # The minimum square: (1, 5) , the number of tours: 89"
   ]
  },
  {
   "cell_type": "markdown",
   "metadata": {},
   "source": [
    "# GA with Repair"
   ]
  },
  {
   "cell_type": "code",
   "execution_count": 3,
   "metadata": {},
   "outputs": [
    {
     "name": "stdout",
     "output_type": "stream",
     "text": [
      "The run time was: 127.61244344711304 Sec\n",
      "[(22, 10), (9, 2), (10, 15), (20, 22), (14, 7), (10, 3), (5, 4), (19, 8)]\n",
      "[(6, 2), (32, 14), (7, 4), (7, 1), (11, 2), (0, 0), (6, 1), (11, 40)]\n",
      "[(0, 0), (5, 14), (30, 16), (0, 0), (5, 10), (7, 5), (3, 1), (5, 26)]\n",
      "[(7, 29), (10, 1), (15, 2), (31, 5), (6, 1), (0, 0), (0, 0), (23, 20)]\n",
      "[(26, 40), (16, 6), (1, 7), (5, 1), (12, 4), (3, 2), (8, 10), (27, 26)]\n",
      "[(11, 4), (9, 4), (0, 0), (0, 0), (1, 4), (21, 8), (8, 3), (4, 2)]\n",
      "[(5, 3), (9, 1), (0, 0), (2, 3), (0, 4), (5, 4), (5, 5), (1, 2)]\n",
      "[(20, 5), (6, 1), (4, 18), (0, 0), (13, 30), (6, 2), (22, 9), (12, 2)]\n"
     ]
    }
   ],
   "source": [
    "random.seed(20)\n",
    "N = 8\n",
    "max_generations = 50\n",
    "population_size = 50\n",
    "mutation_rate = 0.005\n",
    "crossover_rate = 0.85\n",
    "start_time = time.time()\n",
    "analysis_list = GA_analysis_per_square(N, max_generations, population_size, mutation_rate, crossover_rate, use_heuristic=False)\n",
    "end_time = time.time()\n",
    "runtime = end_time - start_time\n",
    "print(f'The run time was: {runtime} Sec')\n",
    "for i in range(N):\n",
    "    print(analysis_list[:][i])"
   ]
  },
  {
   "cell_type": "code",
   "execution_count": 4,
   "metadata": {},
   "outputs": [],
   "source": [
    "number_of_tours = 0\n",
    "number_of_evaluation = max_generations * population_size * 5 * (N ** 2)\n",
    "max = [(0,0), 0]\n",
    "min = [(0,0), analysis_list[0][0][1]]\n",
    "for x in analysis_list:\n",
    "    for y in x:\n",
    "        number_of_tours += y[1]\n",
    "        if y[1] > max[1] :\n",
    "            max[0] = (analysis_list.index(x), x.index(y))\n",
    "            max[1] = y[1]\n",
    "        if y[1] < min[1] :\n",
    "            min[0] = (analysis_list.index(x), x.index(y))\n",
    "            min[1] = y[1]"
   ]
  },
  {
   "cell_type": "code",
   "execution_count": 5,
   "metadata": {},
   "outputs": [
    {
     "name": "stdout",
     "output_type": "stream",
     "text": [
      "The number_of_tours: 475\n",
      "The number_of_evaluation: 800000\n",
      "Hit Ratio (tours found/evaluated): 0.059375\n",
      "average # tours found per square: 7\n",
      "The maximum square: (1, 7) , the umber of tours: 40\n",
      "The minimum square: (1, 5) , the umber of tours: 0\n"
     ]
    }
   ],
   "source": [
    "print(f'The number_of_tours: {number_of_tours}')\n",
    "print(f'The number_of_evaluation: {number_of_evaluation}')\n",
    "print(f'Hit Ratio (tours found/evaluated): {(number_of_tours / number_of_evaluation ) * 100}')\n",
    "print(f'average # tours found per square: {number_of_tours // N ** 2}')\n",
    "print(f'The maximum square: {max[0]} , the number of tours: {max[1]}')\n",
    "print(f'The minimum square: {min[0]} , the number of tours: {min[1]}')"
   ]
  },
  {
   "cell_type": "markdown",
   "metadata": {},
   "source": [
    "# N = 16, max_generations = 50, population_size = 50\n",
    "\n",
    "# GA with Heuristic\n"
   ]
  },
  {
   "cell_type": "code",
   "execution_count": 6,
   "metadata": {},
   "outputs": [
    {
     "name": "stdout",
     "output_type": "stream",
     "text": [
      "The run time was: 2744.0754420757294 Sec\n",
      "[(0, 0), (0, 0), (0, 0), (0, 0), (0, 0), (0, 0), (0, 0), (0, 0), (0, 0), (0, 0), (0, 0), (0, 0), (0, 0), (0, 0), (0, 0), (0, 0)]\n",
      "[(0, 0), (0, 0), (0, 0), (0, 0), (0, 0), (0, 0), (0, 0), (5, 3), (0, 0), (0, 0), (0, 0), (0, 0), (0, 0), (0, 0), (0, 0), (0, 0)]\n",
      "[(0, 0), (0, 0), (0, 0), (0, 0), (0, 0), (0, 0), (0, 0), (0, 0), (7, 1), (0, 0), (0, 0), (0, 0), (0, 0), (0, 0), (0, 0), (0, 0)]\n",
      "[(0, 0), (0, 0), (0, 0), (0, 0), (0, 0), (0, 0), (0, 0), (0, 0), (0, 0), (0, 0), (0, 0), (0, 0), (0, 0), (0, 0), (0, 0), (0, 0)]\n",
      "[(0, 0), (0, 0), (0, 0), (0, 0), (0, 0), (0, 0), (0, 0), (0, 0), (0, 0), (0, 0), (0, 0), (0, 0), (0, 0), (0, 0), (0, 0), (0, 0)]\n",
      "[(0, 0), (0, 0), (0, 0), (0, 0), (0, 0), (0, 0), (0, 0), (9, 1), (0, 0), (0, 0), (0, 0), (0, 0), (0, 0), (0, 0), (0, 0), (0, 0)]\n",
      "[(0, 0), (0, 0), (0, 0), (0, 0), (0, 0), (0, 0), (0, 0), (0, 0), (0, 0), (0, 0), (0, 0), (0, 0), (0, 0), (0, 0), (0, 0), (0, 0)]\n",
      "[(0, 0), (0, 0), (0, 0), (0, 0), (0, 0), (0, 0), (0, 0), (0, 0), (0, 0), (0, 0), (0, 0), (0, 0), (0, 0), (0, 0), (0, 0), (0, 0)]\n",
      "[(5, 1), (0, 0), (0, 0), (0, 0), (0, 0), (5, 1), (0, 0), (0, 0), (0, 0), (0, 0), (0, 0), (0, 0), (0, 0), (0, 0), (0, 0), (0, 0)]\n",
      "[(0, 0), (0, 0), (0, 0), (0, 0), (0, 0), (0, 0), (0, 0), (0, 0), (0, 0), (0, 0), (0, 0), (0, 0), (0, 0), (0, 0), (0, 0), (0, 0)]\n",
      "[(0, 0), (0, 0), (0, 0), (0, 0), (0, 0), (0, 0), (0, 0), (0, 0), (0, 0), (0, 0), (0, 0), (0, 0), (2, 1), (0, 0), (0, 0), (0, 0)]\n",
      "[(0, 0), (0, 0), (0, 0), (0, 0), (0, 0), (0, 0), (0, 0), (0, 0), (0, 0), (0, 0), (0, 0), (0, 0), (0, 0), (0, 0), (0, 0), (0, 0)]\n",
      "[(0, 0), (0, 0), (0, 0), (0, 0), (0, 0), (0, 0), (0, 0), (0, 0), (0, 0), (0, 0), (0, 0), (0, 0), (0, 0), (0, 0), (0, 0), (0, 0)]\n",
      "[(0, 0), (0, 0), (0, 0), (0, 0), (0, 0), (0, 0), (0, 0), (0, 0), (0, 0), (0, 0), (0, 0), (0, 0), (0, 0), (0, 0), (0, 0), (0, 0)]\n",
      "[(0, 0), (0, 0), (0, 0), (0, 0), (0, 0), (0, 0), (0, 0), (0, 0), (0, 0), (0, 0), (0, 0), (0, 0), (0, 0), (0, 0), (0, 0), (0, 0)]\n",
      "[(0, 0), (0, 0), (0, 0), (0, 0), (0, 0), (0, 0), (0, 0), (0, 0), (0, 0), (0, 0), (0, 0), (0, 0), (0, 0), (0, 0), (0, 0), (0, 0)]\n"
     ]
    }
   ],
   "source": [
    "random.seed(20)\n",
    "N = 16\n",
    "max_generations = 50\n",
    "population_size = 50\n",
    "mutation_rate = 0.005\n",
    "crossover_rate = 0.85\n",
    "start_time = time.time()\n",
    "analysis_list = GA_analysis_per_square(N, max_generations, population_size, mutation_rate, crossover_rate, use_heuristic=True)\n",
    "end_time = time.time()\n",
    "runtime = end_time - start_time\n",
    "print(f'The run time was: {runtime} Sec')\n",
    "for i in range(N):\n",
    "    print(analysis_list[:][i])"
   ]
  },
  {
   "cell_type": "code",
   "execution_count": null,
   "metadata": {},
   "outputs": [],
   "source": [
    "number_of_tours = 0\n",
    "number_of_evaluation = max_generations * population_size * 5 * (N ** 2)\n",
    "max = [(0,0), 0]\n",
    "min = [(0,0), analysis_list[0][0][1]]\n",
    "for x in analysis_list:\n",
    "    for y in x:\n",
    "        number_of_tours += y[1]\n",
    "        if y[1] > max[1] :\n",
    "            max[0] = (analysis_list.index(x), x.index(y))\n",
    "            max[1] = y[1]\n",
    "        if y[1] < min[1] :\n",
    "            min[0] = (analysis_list.index(x), x.index(y))\n",
    "            min[1] = y[1]\n",
    "\n",
    "\n",
    "print(f'The number_of_tours: {number_of_tours}')\n",
    "print(f'The number_of_evaluation: {number_of_evaluation}')\n",
    "print(f'Hit Ratio (tours found/evaluated): {(number_of_tours / number_of_evaluation ) * 100}')\n",
    "print(f'average # tours found per square: {number_of_tours // N ** 2}')\n",
    "print(f'The maximum square: {max[0]} , the number of tours: {max[1]}')\n",
    "print(f'The minimum square: {min[0]} , the number of tours: {min[1]}')"
   ]
  },
  {
   "cell_type": "markdown",
   "metadata": {},
   "source": [
    "# N = 16, max_generations = 5000 , population_size = 100\n",
    "\n",
    "# GA with Heuristic"
   ]
  },
  {
   "cell_type": "code",
   "execution_count": null,
   "metadata": {},
   "outputs": [],
   "source": [
    "random.seed(20)\n",
    "N = 16\n",
    "max_generations = 5000\n",
    "population_size = 100\n",
    "mutation_rate = 0.005\n",
    "crossover_rate = 0.85\n",
    "start_time = time.time()\n",
    "analysis_list = GA_analysis_per_square(N, max_generations, population_size, mutation_rate, crossover_rate, use_heuristic=True)\n",
    "end_time = time.time()\n",
    "runtime = end_time - start_time\n",
    "print(f'The run time was: {runtime} Sec')\n",
    "for i in range(N):\n",
    "    print(analysis_list[:][i])"
   ]
  },
  {
   "cell_type": "code",
   "execution_count": null,
   "metadata": {},
   "outputs": [],
   "source": [
    "number_of_tours = 0\n",
    "number_of_evaluation = max_generations * population_size * 5 * (N ** 2)\n",
    "max = [(0,0), 0]\n",
    "min = [(0,0), analysis_list[0][0][1]]\n",
    "for x in analysis_list:\n",
    "    for y in x:\n",
    "        number_of_tours += y[1]\n",
    "        if y[1] > max[1] :\n",
    "            max[0] = (analysis_list.index(x), x.index(y))\n",
    "            max[1] = y[1]\n",
    "        if y[1] < min[1] :\n",
    "            min[0] = (analysis_list.index(x), x.index(y))\n",
    "            min[1] = y[1]\n",
    "\n",
    "\n",
    "print(f'The number_of_tours: {number_of_tours}')\n",
    "print(f'The number_of_evaluation: {number_of_evaluation}')\n",
    "print(f'Hit Ratio (tours found/evaluated): {(number_of_tours / number_of_evaluation ) * 100}')\n",
    "print(f'average # tours found per square: {number_of_tours // N ** 2}')\n",
    "print(f'The maximum square: {max[0]} , the number of tours: {max[1]}')\n",
    "print(f'The minimum square: {min[0]} , the number of tours: {min[1]}')"
   ]
  }
 ],
 "metadata": {
  "kernelspec": {
   "display_name": "base",
   "language": "python",
   "name": "python3"
  },
  "language_info": {
   "codemirror_mode": {
    "name": "ipython",
    "version": 3
   },
   "file_extension": ".py",
   "mimetype": "text/x-python",
   "name": "python",
   "nbconvert_exporter": "python",
   "pygments_lexer": "ipython3",
   "version": "3.12.0rc3"
  }
 },
 "nbformat": 4,
 "nbformat_minor": 2
}
